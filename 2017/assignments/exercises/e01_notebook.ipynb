{
 "cells": [
  {
   "cell_type": "code",
   "execution_count": 22,
   "metadata": {
    "collapsed": true
   },
   "outputs": [],
   "source": [
    "import tensorflow as tf\n"
   ]
  },
  {
   "cell_type": "code",
   "execution_count": 23,
   "metadata": {},
   "outputs": [],
   "source": [
    "x = tf.constant([[0, -1, -2], [0, 1, 2]])\n",
    "y = tf.zeros(x.shape, tf.int32)\n",
    "r = tf.equal(x, y)"
   ]
  },
  {
   "cell_type": "code",
   "execution_count": 24,
   "metadata": {},
   "outputs": [
    {
     "name": "stdout",
     "output_type": "stream",
     "text": [
      "[[ True False False]\n [ True False False]]\n"
     ]
    }
   ],
   "source": [
    "with tf.Session() as sess:\n",
    "    print (sess.run(r))\n"
   ]
  },
  {
   "cell_type": "code",
   "execution_count": 25,
   "metadata": {},
   "outputs": [],
   "source": [
    "x = tf.constant([29.05088806,  27.61298943,  31.19073486,  29.35532951,\n",
    "  30.97266006,  26.67541885,  38.08450317,  20.74983215,\n",
    "  34.94445419,  34.45999146,  29.06485367,  36.01657104,\n",
    "  27.88236427,  20.56035233,  30.20379066,  29.51215172,\n",
    "  33.71149445,  28.59134293,  36.05556488,  28.66994858])\n",
    "idx = tf.where(x > 30)\n",
    "y = tf.gather(x, idx)"
   ]
  },
  {
   "cell_type": "code",
   "execution_count": 26,
   "metadata": {},
   "outputs": [
    {
     "name": "stdout",
     "output_type": "stream",
     "text": [
      "[[ 2]\n [ 4]\n [ 6]\n [ 8]\n [ 9]\n [11]\n [14]\n [16]\n [18]]\n[[ 31.19073486]\n [ 30.97266006]\n [ 38.08450317]\n [ 34.94445419]\n [ 34.45999146]\n [ 36.01657104]\n [ 30.20379066]\n [ 33.71149445]\n [ 36.05556488]]\n"
     ]
    }
   ],
   "source": [
    "with tf.Session() as sess:\n",
    "    print(sess.run(idx))\n",
    "    print(sess.run(y))"
   ]
  },
  {
   "cell_type": "code",
   "execution_count": 29,
   "metadata": {},
   "outputs": [
    {
     "name": "stdout",
     "output_type": "stream",
     "text": [
      "[[1 0 0 0 0 0]\n [0 2 0 0 0 0]\n [0 0 3 0 0 0]\n [0 0 0 4 0 0]\n [0 0 0 0 5 0]\n [0 0 0 0 0 6]]\n"
     ]
    }
   ],
   "source": [
    "diag = tf.range(1,7)\n",
    "out = tf.diag(diag)\n",
    "with tf.Session() as sess:\n",
    "    print (sess.run(out))"
   ]
  },
  {
   "cell_type": "code",
   "execution_count": 47,
   "metadata": {},
   "outputs": [
    {
     "name": "stdout",
     "output_type": "stream",
     "text": [
      "0.00859201\n"
     ]
    }
   ],
   "source": [
    "x = tf.random_uniform((10,10), 0, 1)\n",
    "output = tf.matrix_determinant(x)\n",
    "with tf.Session() as sess:\n",
    "    print (sess.run(output))"
   ]
  },
  {
   "cell_type": "code",
   "execution_count": 51,
   "metadata": {},
   "outputs": [
    {
     "name": "stdout",
     "output_type": "stream",
     "text": [
      "[ 5  2  3 10  6  4  1  0  9]\n"
     ]
    }
   ],
   "source": [
    "x = tf.constant([5, 2, 3, 5, 10, 6, 2, 3, 4, 2, 1, 1, 0, 9])\n",
    "output, idx = tf.unique(x)\n",
    "with tf.Session() as sess:\n",
    "    print(sess.run(output))"
   ]
  },
  {
   "cell_type": "code",
   "execution_count": null,
   "metadata": {},
   "outputs": [
    {
     "name": "stdout",
     "output_type": "stream",
     "text": [
      "98.3889\n"
     ]
    }
   ],
   "source": [
    "x = tf.random_uniform([300])\n",
    "y = tf.random_uniform([300])\n",
    "avg = tf.reduce_mean(x -y)\n",
    "def f1(): return tf.square(avg)\n",
    "def f2(): return tf.reduce_sum(tf.abs(x-y))\n",
    "output = tf.cond(avg < 0, f1, f2)\n",
    "with tf.Session() as sess:\n",
    "    print(sess.run(output))"
   ]
  },
  {
   "cell_type": "code",
   "execution_count": null,
   "metadata": {},
   "outputs": [],
   "source": []
  }
 ],
 "metadata": {
  "kernelspec": {
   "display_name": "Python 2",
   "language": "python",
   "name": "python2"
  },
  "language_info": {
   "codemirror_mode": {
    "name": "ipython",
    "version": 2
   },
   "file_extension": ".py",
   "mimetype": "text/x-python",
   "name": "python",
   "nbconvert_exporter": "python",
   "pygments_lexer": "ipython2",
   "version": "2.7.6"
  }
 },
 "nbformat": 4,
 "nbformat_minor": 0
}
